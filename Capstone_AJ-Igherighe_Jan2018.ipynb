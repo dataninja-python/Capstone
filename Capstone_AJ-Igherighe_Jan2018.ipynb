{
 "cells": [
  {
   "cell_type": "code",
   "execution_count": 1,
   "metadata": {
    "collapsed": true
   },
   "outputs": [],
   "source": [
    "%matplotlib inline\n",
    "import numpy as np\n",
    "import pandas as pd\n",
    "import matplotlib.pyplot as plt\n",
    "import seaborn"
   ]
  },
  {
   "cell_type": "markdown",
   "metadata": {},
   "source": [
    "# Thinkful Data Science Prep Capstone\n",
    "\n",
    "## U.S. Net Foreign Investment And The Subprime Lending Crisis\n",
    "\n",
    "- - - -"
   ]
  },
  {
   "cell_type": "markdown",
   "metadata": {},
   "source": [
    "\n",
    "            Submitted By: AJ Igherighe   |   Completion Date: January 25, 2018"
   ]
  },
  {
   "cell_type": "code",
   "execution_count": 2,
   "metadata": {},
   "outputs": [],
   "source": [
    "# Let's start by creating a chart to emphasize the abnormality of recent stock market returnss\n",
    "# First we pull in historical S&P data\n",
    "historical_returns_xl = pd.ExcelFile('./Data/historicalmarketreturns.xls')\n",
    "sheetnames = list(historical_returns_xl.sheet_names)\n",
    "sp_data = historical_returns_xl.parse(str(sheetnames[2]))\n",
    "# sp_data.head()\n",
    "\n",
    "# delete unnecessary columns\n",
    "sp_cols = sp_data.columns\n",
    "sp_data.drop(sp_data.columns[[4, 5]], axis=1, inplace=True)\n",
    "# insert new column adding dividend value to S&P value\n",
    "new_col = 'S&P_Full'\n",
    "sp_data['S&P_Full'] = sp_data['S&P 500'] + sp_data['Dividends']\n",
    "# sp_data.head()\n",
    "\n",
    "# create the long term historical compounded annual growth rate (CAGR) for the S&P 500\n",
    "years = int(len(sp_data[new_col][:]) - 1)\n",
    "sp_start = float(sp_data[new_col][:1].copy())\n",
    "sp_end = float(sp_data[new_col][-1:].copy())\n",
    "total_return = sp_end / sp_start\n",
    "cagr = (total_return ** (1 / years)) - 1\n",
    "cagr_per = cagr * 100\n",
    "# print(\"The S&P 500's 90 year Compounded Annual Growth Rate (CAGR) is {0:.2f}%\".format(cagr_per))"
   ]
  },
  {
   "cell_type": "code",
   "execution_count": 3,
   "metadata": {},
   "outputs": [
    {
     "data": {
      "image/png": "[encoded data removed]",
      "text/plain": [
       "<matplotlib.figure.Figure at 0x7fc3d6aac710>"
      ]
     },
     "metadata": {},
     "output_type": "display_data"
    }
   ],
   "source": [
    "def create_barchart(data, values_column, xlabel, ylabel, title):\n",
    "    \"\"\"plot provided data into a bar chart\"\"\"\n",
    "    fig = plt.figure(figsize=(10, 5))\n",
    "    values = list(data[values_column])\n",
    "    objects = (data.index)\n",
    "    y_pos = np.arange(len(objects))\n",
    "    bar_width = 0.55\n",
    "    plt.bar(y_pos, values, bar_width, align='center', alpha=0.75)\n",
    "    plt.xticks(y_pos, objects)\n",
    "    # plt.xlabel(xlabel)\n",
    "    plt.ylabel(ylabel)\n",
    "    plt.title(title)\n",
    "    plt.grid(linestyle='dotted')\n",
    "    plt.show()\n",
    "\n",
    "# 2017 stock market gains from cnn money and CAGR calculated from NYU data\n",
    "stock_gains = {\n",
    "    # dictionary with 2017 stock market index data\n",
    "    'Index': ['Nasdaq', 'Dow', 'S&P', 'S&P_CAGR'], \n",
    "    'Returns': [30, 25, 20, cagr_per]\n",
    "}\n",
    "\n",
    "# create and sort dataframe from dictionary\n",
    "df_gains = pd.DataFrame.from_dict(stock_gains)\n",
    "df_gains.set_index(keys='Index', inplace=True)\n",
    "\n",
    "# create chart using barchart function\n",
    "xlabel = 'Indices'\n",
    "ylabel = 'Annual Percentage Change'\n",
    "graph_title = '2017 Major Stock Market Indices vs 90-Yr S&P CAGR'\n",
    "data_column = 'Returns'\n",
    "\n",
    "# run function to create bar graph\n",
    "create_barchart(df_gains, data_column, xlabel, ylabel, graph_title)"
   ]
  },
  {
   "cell_type": "markdown",
   "metadata": {},
   "source": [
    "**Figure 1: 2017 Returns By Major US Indices**\n",
    "\n",
    "\n"
   ]
  },
  {
   "cell_type": "markdown",
   "metadata": {},
   "source": [
    " "
   ]
  },
  {
   "cell_type": "markdown",
   "metadata": {},
   "source": [
    " "
   ]
  },
  {
   "cell_type": "markdown",
   "metadata": {},
   "source": [
    "## Background"
   ]
  },
  {
   "cell_type": "markdown",
   "metadata": {},
   "source": [
    "The United States is in the midst of an usually favorable economic period.  This is evidenced, in part, by the stock market experiencing its second longest bull market in recorded history.  U.S. major index returns in 2017 further support this point. To put this in perspective, Figure 1 compares 2017 returns of the major U.S. indexes to the S&P 500's compounded annual return since 1927.  Not only did the Nasdaq exceed this historical benchmark by nearly 6x, but the S&P itself earned a nearly 4x greater return than we would expect from its own historical performance. [1](http://money.cnn.com/2018/01/02/investing/stock-market-2018-outlook/index.html) [2](http://pages.stern.nyu.edu/~adamodar/New_Home_Page/datafile/histretSP.html)\n",
    "\n",
    "  Preliminary research suggest the reasons for these gains are obvious:  \n",
    "* **Lower Market Capitalizations Following The Great Recession**.  Triggered by what is now commonly called the \"Subprime Mortgage Crisis,\" which arguably started with the bankruptcy of New Century in April 2007 [3](https://www.federalreservehistory.org/essays/subprime_mortgage_crisis), the US economy experienced its greatest retraction since the Great Depression.  In turn, the stock market experienced significant declines. As an example, the Dow Jones Industrial Average, a composite of the 30 largest public companies by market capitalization and considered by many investors as the least volatile stocks, lost 50% of its value between October 8, 2007 and March 5, 2009.  However, the United States was not affected alone.  Some experts estimate stock market losses worldwide from the crisis and subsequent recession could be nearly 10 trillion USD. [4](https://www.investopedia.com/articles/economics/09/lehman-brothers-collapse.asp)"
   ]
  },
  {
   "cell_type": "markdown",
   "metadata": {},
   "source": [
    ">> \"Dozens of mortgage lenders declare bankruptcy in a matter of weeks. The market is filled with concerns of a major global credit crunch, which could affect all classes of borrowers. Central banks use emergency clauses to inject liquidity into scared financial markets. The real estate markets plummet after years of record highs. Foreclosure rates double year-over-year during the latter half of 2006 and in 2007.\" [5](https://www.investopedia.com/articles/07/subprime-overview.asp#ixzz54wBqEgCY)"
   ]
  },
  {
   "cell_type": "markdown",
   "metadata": {},
   "source": [
    "* **A Massive Global Bailout, Stimulus, And Cheap Capital**.  Many argue with the actions taken to help institutions and homeowners during and following the subprime crisis.  However, Ryan Barnes' quote above (from an Investopedia article) paints a clear picture of how dire the situation appeared at the time.  Essentially, as markets panicked, concern emerged that, left unchecked, the subprime mortgage issue could spark a self-reinforcing liquidity crisis that could end in several key bankrupt financial institutions, and possibly even some governments.  By the time Lehman Brothers filed bankruptcy in Fall 2008 [4](https://www.investopedia.com/articles/economics/09/lehman-brothers-collapse.asp), the US government, arguably, had little choice but to take several decisive actions:\n",
    "  * Seize Fannie Mae and Freddie Mac to prevent their failure and to reassure the mortgage lending markets.  \n",
    "  \n",
    "  * Present programs to encourage banks to re-configure loans for deliquent borrowers and those with mortgages exceed their current home values rather than rush to foreclose.  \n",
    "  \n",
    "  * Lower short-term interest rates effectively to 0% to encourage banks to borrow and inject liquidity into the market.  \n",
    "  \n",
    "  * Purchase mortgage-backed securities and long-term bonds allowing troubled insitutions to strengthen their balance sheets, infusing liquidity into the market directly, and encouraging other financial institutions to provide additional liquidity by reducing longer-term interest rates. [3](https://www.federalreservehistory.org/essays/subprime_mortgage_crisis)  "
   ]
  },
  {
   "cell_type": "markdown",
   "metadata": {},
   "source": [
    "Now, that it appears the US, and many other nations (see supplemental section), have recovered from The Great Recession [6](https://www.cbpp.org/research/economy/chart-book-the-legacy-of-the-great-recession) and that the U.S., Britain, and several other developed nations appear to be going through a nationalist backlash to globalization (the latter is based on the election of Donald Trump, \"Brexit\", and other events outside the scope of this analysis), it raises interesting questions about the past, present, and future of foreign investment in the United States.  Specifically:"
   ]
  },
  {
   "cell_type": "markdown",
   "metadata": {},
   "source": [
    "   \n",
    "\n",
    "  **What have U.S. net foreign investment trends been historically?**\n",
    " \n",
    "  **Did it increase significantly in the periods leading up to the crisis as investors were largely unaware of the risks and financial institutions were earning signficant profits?**  \n",
    "\n",
    "  **Following the crisis, has there been an obvious, permanent change in net foreign investment?**  \n",
    "\n"
   ]
  },
  {
   "cell_type": "markdown",
   "metadata": {},
   "source": [
    "- - - -"
   ]
  },
  {
   "cell_type": "markdown",
   "metadata": {},
   "source": [
    "## Following The Provided Capstone Methodology"
   ]
  },
  {
   "cell_type": "markdown",
   "metadata": {},
   "source": [
    "To meet the requirements outlined in Unit 4 | Lesson 2 | Project 2, this *Analytic Report and Research Proposal* will follow these steps:\n",
    "\n",
    "* **Describe the selected dataset**.  This analysis is conducted on U.S. Net Foreign Investment Data from the U.S. Department of Commerce's Bureau of Economic Analysis. [7](https://www.bea.gov/international/bp_web/tb_download_type_modern.cfm?list=2&RowID=144)\n",
    "\n",
    "\n",
    "* **Ask and answer a set of analytical questions**. To the extent the data allows, we will address the three questions outlined at the end of the previous section.\n",
    "\n",
    "\n",
    "* **Propose further research**. Finally, based on findings from the conducted analysis, the conclusion will contain ideas for additional exploration with skills and techniques from Thinkful's full bootcamp."
   ]
  },
  {
   "cell_type": "markdown",
   "metadata": {},
   "source": [
    " "
   ]
  },
  {
   "cell_type": "markdown",
   "metadata": {},
   "source": [
    "- - - -"
   ]
  },
  {
   "cell_type": "markdown",
   "metadata": {},
   "source": [
    "## Exploring U.S. Net Investment Data"
   ]
  },
  {
   "cell_type": "markdown",
   "metadata": {},
   "source": [
    " "
   ]
  },
  {
   "cell_type": "markdown",
   "metadata": {},
   "source": [
    "To answer the earlier posed questions, we will use data provided by the U.S. Department of Commerce's Bureaur of Economic Analysis.  This dataset contains annual information from 1976 to 2016 and quarterly information starting in 2006.  We are able to download the data in either .xls or .csv format.\n",
    "\n",
    "For simplicity and speed, our preference is to work with the .csv formatted data.  However, after multiple failed attempts, we were forced to download the data in .xls.  A review of the file in a spreadsheet program quickly showed the problem.  To incorporate both annual and quarterly data in the same file, both the .csv and .xls had unusual formatting likely as a result of converting directly from Microsoft Excel.  \n",
    "\n",
    "After removing the number of unnecessary leading columns and header rows, we were able to create a .xls file that Pandas could import.  Having solved overcoming our first hurdle, we can now prepare the data to answer our questions."
   ]
  },
  {
   "cell_type": "markdown",
   "metadata": {},
   "source": [
    "__ #1: What have U.S. net foreign investment trends been historically?__"
   ]
  },
  {
   "cell_type": "code",
   "execution_count": 4,
   "metadata": {},
   "outputs": [
    {
     "data": {
      "text/html": [
       "<div>\n",
       "<style>\n",
       "    .dataframe thead tr:only-child th {\n",
       "        text-align: right;\n",
       "    }\n",
       "\n",
       "    .dataframe thead th {\n",
       "        text-align: left;\n",
       "    }\n",
       "\n",
       "    .dataframe tbody tr th {\n",
       "        vertical-align: top;\n",
       "    }\n",
       "</style>\n",
       "<table border=\"1\" class=\"dataframe\">\n",
       "  <thead>\n",
       "    <tr style=\"text-align: right;\">\n",
       "      <th></th>\n",
       "      <th>Line</th>\n",
       "      <th>Type of investment</th>\n",
       "      <th>1976</th>\n",
       "      <th>1977</th>\n",
       "      <th>1978</th>\n",
       "      <th>1979</th>\n",
       "      <th>1980</th>\n",
       "      <th>1981</th>\n",
       "      <th>1982</th>\n",
       "      <th>1983</th>\n",
       "      <th>...</th>\n",
       "      <th>2007</th>\n",
       "      <th>2008</th>\n",
       "      <th>2009</th>\n",
       "      <th>2010</th>\n",
       "      <th>2011</th>\n",
       "      <th>2012</th>\n",
       "      <th>2013</th>\n",
       "      <th>2014</th>\n",
       "      <th>2015</th>\n",
       "      <th>2016</th>\n",
       "    </tr>\n",
       "  </thead>\n",
       "  <tbody>\n",
       "    <tr>\n",
       "      <th>0</th>\n",
       "      <td>1</td>\n",
       "      <td>U.S. net international investment position (li...</td>\n",
       "      <td>80539</td>\n",
       "      <td>98585</td>\n",
       "      <td>128273</td>\n",
       "      <td>232250</td>\n",
       "      <td>296862</td>\n",
       "      <td>226992</td>\n",
       "      <td>238366</td>\n",
       "      <td>261494</td>\n",
       "      <td>...</td>\n",
       "      <td>-1279493</td>\n",
       "      <td>-3995303</td>\n",
       "      <td>-2627626</td>\n",
       "      <td>-2511788</td>\n",
       "      <td>-4454997</td>\n",
       "      <td>-4518300</td>\n",
       "      <td>-5372654</td>\n",
       "      <td>-6980245</td>\n",
       "      <td>-7493479</td>\n",
       "      <td>-8318378</td>\n",
       "    </tr>\n",
       "    <tr>\n",
       "      <th>1</th>\n",
       "      <td>2</td>\n",
       "      <td>Net international investment position excl...</td>\n",
       "      <td>80539</td>\n",
       "      <td>98585</td>\n",
       "      <td>128273</td>\n",
       "      <td>232250</td>\n",
       "      <td>296862</td>\n",
       "      <td>226992</td>\n",
       "      <td>238366</td>\n",
       "      <td>261494</td>\n",
       "      <td>...</td>\n",
       "      <td>-1350965</td>\n",
       "      <td>-4154938</td>\n",
       "      <td>-2753961</td>\n",
       "      <td>-2622170</td>\n",
       "      <td>-4541036</td>\n",
       "      <td>-4576076</td>\n",
       "      <td>-5450211</td>\n",
       "      <td>-7065777</td>\n",
       "      <td>-7549793</td>\n",
       "      <td>-8379684</td>\n",
       "    </tr>\n",
       "    <tr>\n",
       "      <th>2</th>\n",
       "      <td>3</td>\n",
       "      <td>Financial derivatives other than reserves,...</td>\n",
       "      <td>n.a.</td>\n",
       "      <td>n.a.</td>\n",
       "      <td>n.a.</td>\n",
       "      <td>n.a.</td>\n",
       "      <td>n.a.</td>\n",
       "      <td>n.a.</td>\n",
       "      <td>n.a.</td>\n",
       "      <td>n.a.</td>\n",
       "      <td>...</td>\n",
       "      <td>71472</td>\n",
       "      <td>159635</td>\n",
       "      <td>126335</td>\n",
       "      <td>110382</td>\n",
       "      <td>86039</td>\n",
       "      <td>57776</td>\n",
       "      <td>77557</td>\n",
       "      <td>85532</td>\n",
       "      <td>56314</td>\n",
       "      <td>61306</td>\n",
       "    </tr>\n",
       "    <tr>\n",
       "      <th>3</th>\n",
       "      <td>4</td>\n",
       "      <td>U.S. assets</td>\n",
       "      <td>371424</td>\n",
       "      <td>429060</td>\n",
       "      <td>526090</td>\n",
       "      <td>680460</td>\n",
       "      <td>839083</td>\n",
       "      <td>832943</td>\n",
       "      <td>1030358</td>\n",
       "      <td>1206656</td>\n",
       "      <td>...</td>\n",
       "      <td>20704503</td>\n",
       "      <td>19423416</td>\n",
       "      <td>19426459</td>\n",
       "      <td>21767827</td>\n",
       "      <td>22208896</td>\n",
       "      <td>22562162</td>\n",
       "      <td>24144775</td>\n",
       "      <td>24832583</td>\n",
       "      <td>23352371</td>\n",
       "      <td>23849445</td>\n",
       "    </tr>\n",
       "    <tr>\n",
       "      <th>4</th>\n",
       "      <td>5</td>\n",
       "      <td>Assets excluding financial derivatives (...</td>\n",
       "      <td>371424</td>\n",
       "      <td>429060</td>\n",
       "      <td>526090</td>\n",
       "      <td>680460</td>\n",
       "      <td>839083</td>\n",
       "      <td>832943</td>\n",
       "      <td>1030358</td>\n",
       "      <td>1206656</td>\n",
       "      <td>...</td>\n",
       "      <td>18145171</td>\n",
       "      <td>13295966</td>\n",
       "      <td>15936680</td>\n",
       "      <td>18115514</td>\n",
       "      <td>17492318</td>\n",
       "      <td>18942401</td>\n",
       "      <td>21127675</td>\n",
       "      <td>21580275</td>\n",
       "      <td>20924130</td>\n",
       "      <td>21640465</td>\n",
       "    </tr>\n",
       "  </tbody>\n",
       "</table>\n",
       "<p>5 rows × 43 columns</p>\n",
       "</div>"
      ],
      "text/plain": [
       "  Line                                 Type of investment    1976   1977   \\\n",
       "0    1  U.S. net international investment position (li...   80539   98585   \n",
       "1    2      Net international investment position excl...   80539   98585   \n",
       "2    3      Financial derivatives other than reserves,...    n.a.    n.a.   \n",
       "3    4                                        U.S. assets  371424  429060   \n",
       "4    5        Assets excluding financial derivatives (...  371424  429060   \n",
       "\n",
       "     1978   1979     1980   1981      1982    1983     ...        2007   \\\n",
       "0  128273  232250  296862  226992   238366   261494    ...     -1279493   \n",
       "1  128273  232250  296862  226992   238366   261494    ...     -1350965   \n",
       "2    n.a.    n.a.    n.a.    n.a.     n.a.     n.a.    ...        71472   \n",
       "3  526090  680460  839083  832943  1030358  1206656    ...     20704503   \n",
       "4  526090  680460  839083  832943  1030358  1206656    ...     18145171   \n",
       "\n",
       "       2008     2009       2010     2011       2012     2013       2014  \\\n",
       "0  -3995303  -2627626  -2511788  -4454997  -4518300  -5372654  -6980245   \n",
       "1  -4154938  -2753961  -2622170  -4541036  -4576076  -5450211  -7065777   \n",
       "2    159635    126335    110382     86039     57776     77557     85532   \n",
       "3  19423416  19426459  21767827  22208896  22562162  24144775  24832583   \n",
       "4  13295966  15936680  18115514  17492318  18942401  21127675  21580275   \n",
       "\n",
       "      2015       2016  \n",
       "0  -7493479  -8318378  \n",
       "1  -7549793  -8379684  \n",
       "2     56314     61306  \n",
       "3  23352371  23849445  \n",
       "4  20924130  21640465  \n",
       "\n",
       "[5 rows x 43 columns]"
      ]
     },
     "execution_count": 4,
     "metadata": {},
     "output_type": "execute_result"
    }
   ],
   "source": [
    "def create_dataframe(csv_file):\n",
    "    \"\"\"read a supplied csv file and returns a pandas dataframe\"\"\"\n",
    "    try:\n",
    "        data = pd.read_csv(csv_file)\n",
    "        return data.copy()\n",
    "    except:\n",
    "        print('Error reading csv file into dataframe.')\n",
    "\n",
    "file = './Data/annual_invest_data.csv'\n",
    "data_start = create_dataframe(file)\n",
    "data_start.head()"
   ]
  },
  {
   "cell_type": "markdown",
   "metadata": {},
   "source": [
    "Answering our initial question, requires first locating the data with our dataset that best represents U.S. net foreign investment.  To make the data easier to deal with we will first drop the \"Line\" column which appears to be the original index."
   ]
  },
  {
   "cell_type": "code",
   "execution_count": 5,
   "metadata": {
    "scrolled": true
   },
   "outputs": [
    {
     "data": {
      "text/html": [
       "<div>\n",
       "<style>\n",
       "    .dataframe thead tr:only-child th {\n",
       "        text-align: right;\n",
       "    }\n",
       "\n",
       "    .dataframe thead th {\n",
       "        text-align: left;\n",
       "    }\n",
       "\n",
       "    .dataframe tbody tr th {\n",
       "        vertical-align: top;\n",
       "    }\n",
       "</style>\n",
       "<table border=\"1\" class=\"dataframe\">\n",
       "  <thead>\n",
       "    <tr style=\"text-align: right;\">\n",
       "      <th></th>\n",
       "      <th>Type of investment</th>\n",
       "      <th>1976</th>\n",
       "      <th>1977</th>\n",
       "      <th>1978</th>\n",
       "      <th>1979</th>\n",
       "      <th>1980</th>\n",
       "      <th>1981</th>\n",
       "      <th>1982</th>\n",
       "      <th>1983</th>\n",
       "      <th>1984</th>\n",
       "      <th>...</th>\n",
       "      <th>2007</th>\n",
       "      <th>2008</th>\n",
       "      <th>2009</th>\n",
       "      <th>2010</th>\n",
       "      <th>2011</th>\n",
       "      <th>2012</th>\n",
       "      <th>2013</th>\n",
       "      <th>2014</th>\n",
       "      <th>2015</th>\n",
       "      <th>2016</th>\n",
       "    </tr>\n",
       "  </thead>\n",
       "  <tbody>\n",
       "    <tr>\n",
       "      <th>0</th>\n",
       "      <td>U.S. net international investment position (li...</td>\n",
       "      <td>80539</td>\n",
       "      <td>98585</td>\n",
       "      <td>128273</td>\n",
       "      <td>232250</td>\n",
       "      <td>296862</td>\n",
       "      <td>226992</td>\n",
       "      <td>238366</td>\n",
       "      <td>261494</td>\n",
       "      <td>140140</td>\n",
       "      <td>...</td>\n",
       "      <td>-1279493</td>\n",
       "      <td>-3995303</td>\n",
       "      <td>-2627626</td>\n",
       "      <td>-2511788</td>\n",
       "      <td>-4454997</td>\n",
       "      <td>-4518300</td>\n",
       "      <td>-5372654</td>\n",
       "      <td>-6980245</td>\n",
       "      <td>-7493479</td>\n",
       "      <td>-8318378</td>\n",
       "    </tr>\n",
       "    <tr>\n",
       "      <th>1</th>\n",
       "      <td>Net international investment position excl...</td>\n",
       "      <td>80539</td>\n",
       "      <td>98585</td>\n",
       "      <td>128273</td>\n",
       "      <td>232250</td>\n",
       "      <td>296862</td>\n",
       "      <td>226992</td>\n",
       "      <td>238366</td>\n",
       "      <td>261494</td>\n",
       "      <td>140140</td>\n",
       "      <td>...</td>\n",
       "      <td>-1350965</td>\n",
       "      <td>-4154938</td>\n",
       "      <td>-2753961</td>\n",
       "      <td>-2622170</td>\n",
       "      <td>-4541036</td>\n",
       "      <td>-4576076</td>\n",
       "      <td>-5450211</td>\n",
       "      <td>-7065777</td>\n",
       "      <td>-7549793</td>\n",
       "      <td>-8379684</td>\n",
       "    </tr>\n",
       "    <tr>\n",
       "      <th>2</th>\n",
       "      <td>Financial derivatives other than reserves,...</td>\n",
       "      <td>n.a.</td>\n",
       "      <td>n.a.</td>\n",
       "      <td>n.a.</td>\n",
       "      <td>n.a.</td>\n",
       "      <td>n.a.</td>\n",
       "      <td>n.a.</td>\n",
       "      <td>n.a.</td>\n",
       "      <td>n.a.</td>\n",
       "      <td>n.a.</td>\n",
       "      <td>...</td>\n",
       "      <td>71472</td>\n",
       "      <td>159635</td>\n",
       "      <td>126335</td>\n",
       "      <td>110382</td>\n",
       "      <td>86039</td>\n",
       "      <td>57776</td>\n",
       "      <td>77557</td>\n",
       "      <td>85532</td>\n",
       "      <td>56314</td>\n",
       "      <td>61306</td>\n",
       "    </tr>\n",
       "    <tr>\n",
       "      <th>3</th>\n",
       "      <td>U.S. assets</td>\n",
       "      <td>371424</td>\n",
       "      <td>429060</td>\n",
       "      <td>526090</td>\n",
       "      <td>680460</td>\n",
       "      <td>839083</td>\n",
       "      <td>832943</td>\n",
       "      <td>1030358</td>\n",
       "      <td>1206656</td>\n",
       "      <td>1214478</td>\n",
       "      <td>...</td>\n",
       "      <td>20704503</td>\n",
       "      <td>19423416</td>\n",
       "      <td>19426459</td>\n",
       "      <td>21767827</td>\n",
       "      <td>22208896</td>\n",
       "      <td>22562162</td>\n",
       "      <td>24144775</td>\n",
       "      <td>24832583</td>\n",
       "      <td>23352371</td>\n",
       "      <td>23849445</td>\n",
       "    </tr>\n",
       "    <tr>\n",
       "      <th>4</th>\n",
       "      <td>Assets excluding financial derivatives (...</td>\n",
       "      <td>371424</td>\n",
       "      <td>429060</td>\n",
       "      <td>526090</td>\n",
       "      <td>680460</td>\n",
       "      <td>839083</td>\n",
       "      <td>832943</td>\n",
       "      <td>1030358</td>\n",
       "      <td>1206656</td>\n",
       "      <td>1214478</td>\n",
       "      <td>...</td>\n",
       "      <td>18145171</td>\n",
       "      <td>13295966</td>\n",
       "      <td>15936680</td>\n",
       "      <td>18115514</td>\n",
       "      <td>17492318</td>\n",
       "      <td>18942401</td>\n",
       "      <td>21127675</td>\n",
       "      <td>21580275</td>\n",
       "      <td>20924130</td>\n",
       "      <td>21640465</td>\n",
       "    </tr>\n",
       "  </tbody>\n",
       "</table>\n",
       "<p>5 rows × 42 columns</p>\n",
       "</div>"
      ],
      "text/plain": [
       "                                  Type of investment    1976   1977     1978  \\\n",
       "0  U.S. net international investment position (li...   80539   98585  128273   \n",
       "1      Net international investment position excl...   80539   98585  128273   \n",
       "2      Financial derivatives other than reserves,...    n.a.    n.a.    n.a.   \n",
       "3                                        U.S. assets  371424  429060  526090   \n",
       "4        Assets excluding financial derivatives (...  371424  429060  526090   \n",
       "\n",
       "    1979     1980   1981      1982    1983      1984    ...        2007   \\\n",
       "0  232250  296862  226992   238366   261494   140140    ...     -1279493   \n",
       "1  232250  296862  226992   238366   261494   140140    ...     -1350965   \n",
       "2    n.a.    n.a.    n.a.     n.a.     n.a.     n.a.    ...        71472   \n",
       "3  680460  839083  832943  1030358  1206656  1214478    ...     20704503   \n",
       "4  680460  839083  832943  1030358  1206656  1214478    ...     18145171   \n",
       "\n",
       "       2008     2009       2010     2011       2012     2013       2014  \\\n",
       "0  -3995303  -2627626  -2511788  -4454997  -4518300  -5372654  -6980245   \n",
       "1  -4154938  -2753961  -2622170  -4541036  -4576076  -5450211  -7065777   \n",
       "2    159635    126335    110382     86039     57776     77557     85532   \n",
       "3  19423416  19426459  21767827  22208896  22562162  24144775  24832583   \n",
       "4  13295966  15936680  18115514  17492318  18942401  21127675  21580275   \n",
       "\n",
       "      2015       2016  \n",
       "0  -7493479  -8318378  \n",
       "1  -7549793  -8379684  \n",
       "2     56314     61306  \n",
       "3  23352371  23849445  \n",
       "4  20924130  21640465  \n",
       "\n",
       "[5 rows x 42 columns]"
      ]
     },
     "execution_count": 5,
     "metadata": {},
     "output_type": "execute_result"
    }
   ],
   "source": [
    "# delete unnecessary index column\n",
    "data_start.drop(data_start.columns[[0]], axis=1, inplace=True)\n",
    "data_start.head()"
   ]
  },
  {
   "cell_type": "markdown",
   "metadata": {},
   "source": [
    "The second row of the dataframe (index 0) appears to contain the desired information - the historical difference between foreign investment in the U.S. and U.S. foreign borrowing.  To get the desired data, we will create a new dataframe from the top two rows and strip away the \"Type Of Investment\" column.  Then, we can plot this data to see if any insights emerge."
   ]
  },
  {
   "cell_type": "code",
   "execution_count": 15,
   "metadata": {},
   "outputs": [
    {
     "name": "stdout",
     "output_type": "stream",
     "text": [
      "['1976', '1977\\xa0', '1978', '1979\\xa0', '1980', '1981\\xa0', '1982', '1983\\xa0', '1984', '1985\\xa0', '1986', '1987\\xa0', '1988', '1989\\xa0', '1990', '1991\\xa0', '1992', '1993\\xa0', '1994', '1995\\xa0', '1996', '1997\\xa0', '1998', '1999\\xa0', '2000', '2001\\xa0', '2002', '2003\\xa0', '2004', '2005\\xa0', '2006', '2007\\xa0', '2008', '2009\\xa0', '2010', '2011\\xa0', '2012', '2013\\xa0', '2014', '2015\\xa0', '2016']\n"
     ]
    }
   ],
   "source": [
    "# create a new dataframe containing only the desired information\n",
    "data_net = data_start.copy()\n",
    "data_net.drop(data_net.columns[[0]], axis=1, inplace=True)\n",
    "years_old = list(data_net.columns)\n",
    "# print(data_net.head())\n",
    "print(years_old)"
   ]
  },
  {
   "cell_type": "markdown",
   "metadata": {},
   "source": [
    "Column data contains formatting that will prevent properly plotting the data."
   ]
  },
  {
   "cell_type": "code",
   "execution_count": 16,
   "metadata": {},
   "outputs": [
    {
     "name": "stdout",
     "output_type": "stream",
     "text": [
      "['1976', '1977', '1978', '1979', '1980', '1981', '1982', '1983', '1984', '1985', '1986', '1987', '1988', '1989', '1990', '1991', '1992', '1993', '1994', '1995', '1996', '1997', '1998', '1999', '2000', '2001', '2002', '2003', '2004', '2005', '2006', '2007', '2008', '2009', '2010', '2011', '2012', '2013', '2014', '2015', '2016']\n"
     ]
    }
   ],
   "source": [
    "years_new = []\n",
    "dirt = '\\xa0'\n",
    "for year in years_old:\n",
    "    new_year = year.replace(dirt, '')\n",
    "    years_new.append(new_year)\n",
    "print(years_new)"
   ]
  },
  {
   "cell_type": "markdown",
   "metadata": {},
   "source": [
    "A quick for loop allows us to strip away the problem formatting.  And let's us move on to preparing the graph."
   ]
  },
  {
   "cell_type": "code",
   "execution_count": 35,
   "metadata": {},
   "outputs": [],
   "source": [
    "data_net.iloc[0:1].to_csv('net_row.csv', header=False, index=False)\n",
    "net_values = pd.read_csv('net_row.csv', header=None)\n",
    "y = net_values.iloc[0]"
   ]
  },
  {
   "cell_type": "code",
   "execution_count": 34,
   "metadata": {},
   "outputs": [
    {
     "data": {
      "image/png": "[encoded data removed]",
      "text/plain": [
       "<matplotlib.figure.Figure at 0x7fc3cea6f908>"
      ]
     },
     "metadata": {},
     "output_type": "display_data"
    }
   ],
   "source": [
    "x = years_new\n",
    "fig = plt.figure(figsize=(10, 5))\n",
    "plt.plot(x, y)\n",
    "plt.ylabel('Net Foreign Investment (USD Millions)')\n",
    "plt.title('Historical U.S. Net Foreign Investment')\n",
    "plt.show()"
   ]
  },
  {
   "cell_type": "code",
   "execution_count": null,
   "metadata": {
    "collapsed": true
   },
   "outputs": [],
   "source": []
  },
  {
   "cell_type": "code",
   "execution_count": null,
   "metadata": {
    "collapsed": true
   },
   "outputs": [],
   "source": []
  },
  {
   "cell_type": "code",
   "execution_count": null,
   "metadata": {
    "collapsed": true
   },
   "outputs": [],
   "source": []
  },
  {
   "cell_type": "code",
   "execution_count": null,
   "metadata": {
    "collapsed": true
   },
   "outputs": [],
   "source": []
  },
  {
   "cell_type": "code",
   "execution_count": null,
   "metadata": {
    "collapsed": true
   },
   "outputs": [],
   "source": []
  },
  {
   "cell_type": "markdown",
   "metadata": {},
   "source": [
    " "
   ]
  },
  {
   "cell_type": "markdown",
   "metadata": {},
   "source": [
    "- - - -"
   ]
  },
  {
   "cell_type": "markdown",
   "metadata": {},
   "source": [
    "**Supplemental Data**\n",
    "\n",
    "\n",
    "https://www.bloomberg.com/news/articles/2017-08-31/canada-s-economy-surges-4-5-on-consumer-spending-key-takeaways\n",
    "\n",
    "https://www.imf.org/en/News/Articles/2017/05/18/NA190517Latin-America-and-the-Caribbean-Bouncing-Back-from-Recession\n",
    "\n",
    "http://www.globalissues.org/article/768/global-financial-crisis\n",
    "\n",
    "https://www.investopedia.com/university/credit-crisis/credit-crisis6.asp\n",
    "\n",
    "https://www.thebalance.com/stock-market-crash-of-2008-3305535\n",
    "\n",
    "http://knowledge.wharton.upenn.edu/article/mortgage-crisis-bailout-relief-for-some-risk-for-others/\n",
    "\n",
    "https://www.investopedia.com/terms/d/djia.asp\n",
    "\n",
    "https://www.investopedia.com/terms/n/nasdaq100.asp,https://www.investopedia.com/ask/answers/040215/what-does-sp-500-index-measure-and-how-it-calculated.asp?ad=dirN&qo=investopediaSiteSearch&qsrc=0&o=40186"
   ]
  }
 ],
 "metadata": {
  "kernelspec": {
   "display_name": "Python 3",
   "language": "python",
   "name": "python3"
  },
  "language_info": {
   "codemirror_mode": {
    "name": "ipython",
    "version": 3
   },
   "file_extension": ".py",
   "mimetype": "text/x-python",
   "name": "python",
   "nbconvert_exporter": "python",
   "pygments_lexer": "ipython3",
   "version": "3.6.4"
  }
 },
 "nbformat": 4,
 "nbformat_minor": 2
}
